{
 "cells": [
  {
   "cell_type": "code",
   "execution_count": 35,
   "metadata": {},
   "outputs": [],
   "source": [
    "import pandas as pd\n",
    "import numpy as np\n",
    "import matplotlib.pyplot as plt\n",
    "%matplotlib inline\n",
    "plt.rcParams['figure.figsize'] = (15, 5)"
   ]
  },
  {
   "cell_type": "code",
   "execution_count": 9,
   "metadata": {},
   "outputs": [
    {
     "name": "stderr",
     "output_type": "stream",
     "text": [
      "Downloading: 100%|██████████| 7455325/7455325 [10:58<00:00, 11325.57rows/s]\n"
     ]
    }
   ],
   "source": [
    "crimes = \"\"\"\n",
    "SELECT unique_key, case_number, date, primary_type, description, location_description, arrest, domestic, beat, year\n",
    "FROM `bigquery-public-data.chicago_crime.crime`\n",
    "WHERE primary_type IS NOT NULL;\n",
    "\"\"\"\n",
    "crimes_df = pd.read_gbq(crimes, project_id='stoked-reality-328205')"
   ]
  },
  {
   "cell_type": "code",
   "execution_count": 10,
   "metadata": {},
   "outputs": [
    {
     "data": {
      "text/html": [
       "<div>\n",
       "<style scoped>\n",
       "    .dataframe tbody tr th:only-of-type {\n",
       "        vertical-align: middle;\n",
       "    }\n",
       "\n",
       "    .dataframe tbody tr th {\n",
       "        vertical-align: top;\n",
       "    }\n",
       "\n",
       "    .dataframe thead th {\n",
       "        text-align: right;\n",
       "    }\n",
       "</style>\n",
       "<table border=\"1\" class=\"dataframe\">\n",
       "  <thead>\n",
       "    <tr style=\"text-align: right;\">\n",
       "      <th></th>\n",
       "      <th>unique_key</th>\n",
       "      <th>case_number</th>\n",
       "      <th>date</th>\n",
       "      <th>primary_type</th>\n",
       "      <th>description</th>\n",
       "      <th>location_description</th>\n",
       "      <th>arrest</th>\n",
       "      <th>domestic</th>\n",
       "      <th>beat</th>\n",
       "      <th>year</th>\n",
       "    </tr>\n",
       "  </thead>\n",
       "  <tbody>\n",
       "    <tr>\n",
       "      <td>0</td>\n",
       "      <td>10230378</td>\n",
       "      <td>HY416747</td>\n",
       "      <td>2015-06-18 11:20:00+00:00</td>\n",
       "      <td>CRIMINAL TRESPASS</td>\n",
       "      <td>TO VEHICLE</td>\n",
       "      <td>STREET</td>\n",
       "      <td>False</td>\n",
       "      <td>False</td>\n",
       "      <td>212</td>\n",
       "      <td>2015</td>\n",
       "    </tr>\n",
       "    <tr>\n",
       "      <td>1</td>\n",
       "      <td>10239492</td>\n",
       "      <td>HY427160</td>\n",
       "      <td>2015-09-16 11:00:00+00:00</td>\n",
       "      <td>OBSCENITY</td>\n",
       "      <td>SALE/DIST OBSCENE MAT TO MINOR</td>\n",
       "      <td>RESIDENCE</td>\n",
       "      <td>True</td>\n",
       "      <td>False</td>\n",
       "      <td>1612</td>\n",
       "      <td>2015</td>\n",
       "    </tr>\n",
       "    <tr>\n",
       "      <td>2</td>\n",
       "      <td>10252405</td>\n",
       "      <td>HY440240</td>\n",
       "      <td>2015-09-27 11:17:00+00:00</td>\n",
       "      <td>NARCOTICS</td>\n",
       "      <td>POSS: CANNABIS MORE THAN 30GMS</td>\n",
       "      <td>CHA APARTMENT</td>\n",
       "      <td>True</td>\n",
       "      <td>False</td>\n",
       "      <td>533</td>\n",
       "      <td>2015</td>\n",
       "    </tr>\n",
       "    <tr>\n",
       "      <td>3</td>\n",
       "      <td>11241284</td>\n",
       "      <td>JB166143</td>\n",
       "      <td>2014-10-10 12:00:00+00:00</td>\n",
       "      <td>DECEPTIVE PRACTICE</td>\n",
       "      <td>EMBEZZLEMENT</td>\n",
       "      <td>OTHER</td>\n",
       "      <td>False</td>\n",
       "      <td>False</td>\n",
       "      <td>812</td>\n",
       "      <td>2014</td>\n",
       "    </tr>\n",
       "    <tr>\n",
       "      <td>4</td>\n",
       "      <td>10272078</td>\n",
       "      <td>HY460276</td>\n",
       "      <td>2015-01-01 12:00:00+00:00</td>\n",
       "      <td>CRIM SEXUAL ASSAULT</td>\n",
       "      <td>PREDATORY</td>\n",
       "      <td>RESIDENCE</td>\n",
       "      <td>False</td>\n",
       "      <td>True</td>\n",
       "      <td>1622</td>\n",
       "      <td>2015</td>\n",
       "    </tr>\n",
       "  </tbody>\n",
       "</table>\n",
       "</div>"
      ],
      "text/plain": [
       "   unique_key case_number                      date         primary_type  \\\n",
       "0    10230378    HY416747 2015-06-18 11:20:00+00:00    CRIMINAL TRESPASS   \n",
       "1    10239492    HY427160 2015-09-16 11:00:00+00:00            OBSCENITY   \n",
       "2    10252405    HY440240 2015-09-27 11:17:00+00:00            NARCOTICS   \n",
       "3    11241284    JB166143 2014-10-10 12:00:00+00:00   DECEPTIVE PRACTICE   \n",
       "4    10272078    HY460276 2015-01-01 12:00:00+00:00  CRIM SEXUAL ASSAULT   \n",
       "\n",
       "                      description location_description  arrest  domestic  \\\n",
       "0                      TO VEHICLE               STREET   False     False   \n",
       "1  SALE/DIST OBSCENE MAT TO MINOR            RESIDENCE    True     False   \n",
       "2  POSS: CANNABIS MORE THAN 30GMS        CHA APARTMENT    True     False   \n",
       "3                    EMBEZZLEMENT                OTHER   False     False   \n",
       "4                       PREDATORY            RESIDENCE   False      True   \n",
       "\n",
       "   beat  year  \n",
       "0   212  2015  \n",
       "1  1612  2015  \n",
       "2   533  2015  \n",
       "3   812  2014  \n",
       "4  1622  2015  "
      ]
     },
     "execution_count": 10,
     "metadata": {},
     "output_type": "execute_result"
    }
   ],
   "source": [
    "crimes_df.head()"
   ]
  },
  {
   "cell_type": "code",
   "execution_count": 72,
   "metadata": {},
   "outputs": [
    {
     "data": {
      "text/plain": [
       "(7455325, 11)"
      ]
     },
     "execution_count": 72,
     "metadata": {},
     "output_type": "execute_result"
    }
   ],
   "source": [
    "crimes_df.shape"
   ]
  },
  {
   "cell_type": "code",
   "execution_count": 73,
   "metadata": {},
   "outputs": [
    {
     "name": "stdout",
     "output_type": "stream",
     "text": [
      "<class 'pandas.core.frame.DataFrame'>\n",
      "RangeIndex: 7455325 entries, 0 to 7455324\n",
      "Data columns (total 11 columns):\n",
      "unique_key              int64\n",
      "case_number             object\n",
      "date                    datetime64[ns, UTC]\n",
      "primary_type            object\n",
      "description             object\n",
      "location_description    object\n",
      "arrest                  bool\n",
      "domestic                bool\n",
      "beat                    int64\n",
      "year                    int64\n",
      "month                   int64\n",
      "dtypes: bool(2), datetime64[ns, UTC](1), int64(4), object(4)\n",
      "memory usage: 526.1+ MB\n"
     ]
    }
   ],
   "source": [
    "crimes_df.info()"
   ]
  },
  {
   "cell_type": "code",
   "execution_count": 11,
   "metadata": {},
   "outputs": [],
   "source": [
    "crimes_df['month'] = crimes_df['date'].dt.month       "
   ]
  },
  {
   "cell_type": "code",
   "execution_count": 12,
   "metadata": {},
   "outputs": [
    {
     "data": {
      "text/html": [
       "<div>\n",
       "<style scoped>\n",
       "    .dataframe tbody tr th:only-of-type {\n",
       "        vertical-align: middle;\n",
       "    }\n",
       "\n",
       "    .dataframe tbody tr th {\n",
       "        vertical-align: top;\n",
       "    }\n",
       "\n",
       "    .dataframe thead th {\n",
       "        text-align: right;\n",
       "    }\n",
       "</style>\n",
       "<table border=\"1\" class=\"dataframe\">\n",
       "  <thead>\n",
       "    <tr style=\"text-align: right;\">\n",
       "      <th></th>\n",
       "      <th>unique_key</th>\n",
       "      <th>case_number</th>\n",
       "      <th>date</th>\n",
       "      <th>primary_type</th>\n",
       "      <th>description</th>\n",
       "      <th>location_description</th>\n",
       "      <th>arrest</th>\n",
       "      <th>domestic</th>\n",
       "      <th>beat</th>\n",
       "      <th>year</th>\n",
       "      <th>month</th>\n",
       "    </tr>\n",
       "  </thead>\n",
       "  <tbody>\n",
       "    <tr>\n",
       "      <td>0</td>\n",
       "      <td>10230378</td>\n",
       "      <td>HY416747</td>\n",
       "      <td>2015-06-18 11:20:00+00:00</td>\n",
       "      <td>CRIMINAL TRESPASS</td>\n",
       "      <td>TO VEHICLE</td>\n",
       "      <td>STREET</td>\n",
       "      <td>False</td>\n",
       "      <td>False</td>\n",
       "      <td>212</td>\n",
       "      <td>2015</td>\n",
       "      <td>6</td>\n",
       "    </tr>\n",
       "    <tr>\n",
       "      <td>1</td>\n",
       "      <td>10239492</td>\n",
       "      <td>HY427160</td>\n",
       "      <td>2015-09-16 11:00:00+00:00</td>\n",
       "      <td>OBSCENITY</td>\n",
       "      <td>SALE/DIST OBSCENE MAT TO MINOR</td>\n",
       "      <td>RESIDENCE</td>\n",
       "      <td>True</td>\n",
       "      <td>False</td>\n",
       "      <td>1612</td>\n",
       "      <td>2015</td>\n",
       "      <td>9</td>\n",
       "    </tr>\n",
       "    <tr>\n",
       "      <td>2</td>\n",
       "      <td>10252405</td>\n",
       "      <td>HY440240</td>\n",
       "      <td>2015-09-27 11:17:00+00:00</td>\n",
       "      <td>NARCOTICS</td>\n",
       "      <td>POSS: CANNABIS MORE THAN 30GMS</td>\n",
       "      <td>CHA APARTMENT</td>\n",
       "      <td>True</td>\n",
       "      <td>False</td>\n",
       "      <td>533</td>\n",
       "      <td>2015</td>\n",
       "      <td>9</td>\n",
       "    </tr>\n",
       "    <tr>\n",
       "      <td>3</td>\n",
       "      <td>11241284</td>\n",
       "      <td>JB166143</td>\n",
       "      <td>2014-10-10 12:00:00+00:00</td>\n",
       "      <td>DECEPTIVE PRACTICE</td>\n",
       "      <td>EMBEZZLEMENT</td>\n",
       "      <td>OTHER</td>\n",
       "      <td>False</td>\n",
       "      <td>False</td>\n",
       "      <td>812</td>\n",
       "      <td>2014</td>\n",
       "      <td>10</td>\n",
       "    </tr>\n",
       "    <tr>\n",
       "      <td>4</td>\n",
       "      <td>10272078</td>\n",
       "      <td>HY460276</td>\n",
       "      <td>2015-01-01 12:00:00+00:00</td>\n",
       "      <td>CRIM SEXUAL ASSAULT</td>\n",
       "      <td>PREDATORY</td>\n",
       "      <td>RESIDENCE</td>\n",
       "      <td>False</td>\n",
       "      <td>True</td>\n",
       "      <td>1622</td>\n",
       "      <td>2015</td>\n",
       "      <td>1</td>\n",
       "    </tr>\n",
       "  </tbody>\n",
       "</table>\n",
       "</div>"
      ],
      "text/plain": [
       "   unique_key case_number                      date         primary_type  \\\n",
       "0    10230378    HY416747 2015-06-18 11:20:00+00:00    CRIMINAL TRESPASS   \n",
       "1    10239492    HY427160 2015-09-16 11:00:00+00:00            OBSCENITY   \n",
       "2    10252405    HY440240 2015-09-27 11:17:00+00:00            NARCOTICS   \n",
       "3    11241284    JB166143 2014-10-10 12:00:00+00:00   DECEPTIVE PRACTICE   \n",
       "4    10272078    HY460276 2015-01-01 12:00:00+00:00  CRIM SEXUAL ASSAULT   \n",
       "\n",
       "                      description location_description  arrest  domestic  \\\n",
       "0                      TO VEHICLE               STREET   False     False   \n",
       "1  SALE/DIST OBSCENE MAT TO MINOR            RESIDENCE    True     False   \n",
       "2  POSS: CANNABIS MORE THAN 30GMS        CHA APARTMENT    True     False   \n",
       "3                    EMBEZZLEMENT                OTHER   False     False   \n",
       "4                       PREDATORY            RESIDENCE   False      True   \n",
       "\n",
       "   beat  year  month  \n",
       "0   212  2015      6  \n",
       "1  1612  2015      9  \n",
       "2   533  2015      9  \n",
       "3   812  2014     10  \n",
       "4  1622  2015      1  "
      ]
     },
     "execution_count": 12,
     "metadata": {},
     "output_type": "execute_result"
    }
   ],
   "source": [
    "crimes_df.head()"
   ]
  },
  {
   "cell_type": "code",
   "execution_count": 13,
   "metadata": {},
   "outputs": [
    {
     "data": {
      "text/plain": [
       "unique_key                            int64\n",
       "case_number                          object\n",
       "date                    datetime64[ns, UTC]\n",
       "primary_type                         object\n",
       "description                          object\n",
       "location_description                 object\n",
       "arrest                                 bool\n",
       "domestic                               bool\n",
       "beat                                  int64\n",
       "year                                  int64\n",
       "month                                 int64\n",
       "dtype: object"
      ]
     },
     "execution_count": 13,
     "metadata": {},
     "output_type": "execute_result"
    }
   ],
   "source": [
    "crimes_df.dtypes"
   ]
  },
  {
   "cell_type": "code",
   "execution_count": 59,
   "metadata": {},
   "outputs": [
    {
     "name": "stdout",
     "output_type": "stream",
     "text": [
      "2021-12-09 12:59:00+00:00\n",
      "2001-01-01 01:00:00+00:00\n"
     ]
    }
   ],
   "source": [
    "max_date = crimes_df.date.max()\n",
    "min_date = crimes_df.date.min()\n",
    "\n",
    "print(max_date)\n",
    "print(min_date)"
   ]
  },
  {
   "cell_type": "code",
   "execution_count": 17,
   "metadata": {},
   "outputs": [
    {
     "data": {
      "text/plain": [
       "False    0.732444\n",
       "True     0.267556\n",
       "Name: arrest, dtype: float64"
      ]
     },
     "execution_count": 17,
     "metadata": {},
     "output_type": "execute_result"
    }
   ],
   "source": [
    "#how many crimes lead to an arrest?\n",
    "crimes_df.arrest.value_counts(dropna=False, normalize=True)"
   ]
  },
  {
   "cell_type": "code",
   "execution_count": 19,
   "metadata": {},
   "outputs": [
    {
     "data": {
      "text/plain": [
       "primary_type\n",
       "ARSON                                  12663\n",
       "ASSAULT                               479171\n",
       "BATTERY                              1367605\n",
       "BURGLARY                              414121\n",
       "CONCEALED CARRY LICENSE VIOLATION        840\n",
       "CRIM SEXUAL ASSAULT                    27818\n",
       "CRIMINAL DAMAGE                       850151\n",
       "CRIMINAL SEXUAL ASSAULT                 4224\n",
       "CRIMINAL TRESPASS                     208433\n",
       "DECEPTIVE PRACTICE                    321039\n",
       "DOMESTIC VIOLENCE                          1\n",
       "GAMBLING                               14607\n",
       "HOMICIDE                               11623\n",
       "HUMAN TRAFFICKING                         82\n",
       "INTERFERENCE WITH PUBLIC OFFICER       17795\n",
       "INTIMIDATION                            4390\n",
       "KIDNAPPING                              7066\n",
       "LIQUOR LAW VIOLATION                   14629\n",
       "MOTOR VEHICLE THEFT                   344327\n",
       "NARCOTICS                             739952\n",
       "NON - CRIMINAL                            38\n",
       "NON-CRIMINAL                             176\n",
       "NON-CRIMINAL (SUBJECT SPECIFIED)           9\n",
       "OBSCENITY                                752\n",
       "OFFENSE INVOLVING CHILDREN             52592\n",
       "OTHER NARCOTIC VIOLATION                 140\n",
       "OTHER OFFENSE                         463490\n",
       "PROSTITUTION                           69445\n",
       "PUBLIC INDECENCY                         187\n",
       "PUBLIC PEACE VIOLATION                 51344\n",
       "RITUALISM                                 24\n",
       "ROBBERY                               280101\n",
       "SEX OFFENSE                            28872\n",
       "STALKING                                4181\n",
       "THEFT                                1568761\n",
       "WEAPONS VIOLATION                      94676\n",
       "dtype: int64"
      ]
     },
     "execution_count": 19,
     "metadata": {},
     "output_type": "execute_result"
    }
   ],
   "source": [
    "#types of crimes\n",
    "\n",
    "crimes_df.groupby(['primary_type']).size()"
   ]
  },
  {
   "cell_type": "code",
   "execution_count": 81,
   "metadata": {},
   "outputs": [
    {
     "data": {
      "text/html": [
       "<div>\n",
       "<style scoped>\n",
       "    .dataframe tbody tr th:only-of-type {\n",
       "        vertical-align: middle;\n",
       "    }\n",
       "\n",
       "    .dataframe tbody tr th {\n",
       "        vertical-align: top;\n",
       "    }\n",
       "\n",
       "    .dataframe thead th {\n",
       "        text-align: right;\n",
       "    }\n",
       "</style>\n",
       "<table border=\"1\" class=\"dataframe\">\n",
       "  <thead>\n",
       "    <tr style=\"text-align: right;\">\n",
       "      <th></th>\n",
       "      <th>primary_type</th>\n",
       "      <th>arrest</th>\n",
       "      <th>arrest_rate</th>\n",
       "    </tr>\n",
       "  </thead>\n",
       "  <tbody>\n",
       "    <tr>\n",
       "      <td>0</td>\n",
       "      <td>ARSON</td>\n",
       "      <td>False</td>\n",
       "      <td>0.874437</td>\n",
       "    </tr>\n",
       "    <tr>\n",
       "      <td>1</td>\n",
       "      <td>ARSON</td>\n",
       "      <td>True</td>\n",
       "      <td>0.125563</td>\n",
       "    </tr>\n",
       "    <tr>\n",
       "      <td>2</td>\n",
       "      <td>ASSAULT</td>\n",
       "      <td>False</td>\n",
       "      <td>0.780865</td>\n",
       "    </tr>\n",
       "    <tr>\n",
       "      <td>3</td>\n",
       "      <td>ASSAULT</td>\n",
       "      <td>True</td>\n",
       "      <td>0.219135</td>\n",
       "    </tr>\n",
       "    <tr>\n",
       "      <td>4</td>\n",
       "      <td>BATTERY</td>\n",
       "      <td>False</td>\n",
       "      <td>0.777168</td>\n",
       "    </tr>\n",
       "    <tr>\n",
       "      <td>...</td>\n",
       "      <td>...</td>\n",
       "      <td>...</td>\n",
       "      <td>...</td>\n",
       "    </tr>\n",
       "    <tr>\n",
       "      <td>66</td>\n",
       "      <td>STALKING</td>\n",
       "      <td>True</td>\n",
       "      <td>0.148290</td>\n",
       "    </tr>\n",
       "    <tr>\n",
       "      <td>67</td>\n",
       "      <td>THEFT</td>\n",
       "      <td>False</td>\n",
       "      <td>0.884774</td>\n",
       "    </tr>\n",
       "    <tr>\n",
       "      <td>68</td>\n",
       "      <td>THEFT</td>\n",
       "      <td>True</td>\n",
       "      <td>0.115226</td>\n",
       "    </tr>\n",
       "    <tr>\n",
       "      <td>69</td>\n",
       "      <td>WEAPONS VIOLATION</td>\n",
       "      <td>True</td>\n",
       "      <td>0.757288</td>\n",
       "    </tr>\n",
       "    <tr>\n",
       "      <td>70</td>\n",
       "      <td>WEAPONS VIOLATION</td>\n",
       "      <td>False</td>\n",
       "      <td>0.242712</td>\n",
       "    </tr>\n",
       "  </tbody>\n",
       "</table>\n",
       "<p>71 rows × 3 columns</p>\n",
       "</div>"
      ],
      "text/plain": [
       "         primary_type  arrest  arrest_rate\n",
       "0               ARSON   False     0.874437\n",
       "1               ARSON    True     0.125563\n",
       "2             ASSAULT   False     0.780865\n",
       "3             ASSAULT    True     0.219135\n",
       "4             BATTERY   False     0.777168\n",
       "..                ...     ...          ...\n",
       "66           STALKING    True     0.148290\n",
       "67              THEFT   False     0.884774\n",
       "68              THEFT    True     0.115226\n",
       "69  WEAPONS VIOLATION    True     0.757288\n",
       "70  WEAPONS VIOLATION   False     0.242712\n",
       "\n",
       "[71 rows x 3 columns]"
      ]
     },
     "execution_count": 81,
     "metadata": {},
     "output_type": "execute_result"
    }
   ],
   "source": [
    "crimes_df.groupby(['primary_type']).arrest.value_counts(normalize=True).reset_index(name='arrest_rate')"
   ]
  },
  {
   "cell_type": "code",
   "execution_count": 36,
   "metadata": {},
   "outputs": [
    {
     "data": {
      "text/plain": [
       "<matplotlib.axes._subplots.AxesSubplot at 0x7fdf54579cd0>"
      ]
     },
     "execution_count": 36,
     "metadata": {},
     "output_type": "execute_result"
    },
    {
     "data": {
      "image/png": "[encoded data removed]",
      "text/plain": [
       "<Figure size 1080x360 with 1 Axes>"
      ]
     },
     "metadata": {
      "needs_background": "light"
     },
     "output_type": "display_data"
    }
   ],
   "source": [
    "#visualize trends in crimes by year\n",
    "\n",
    "crimes_df.year.value_counts(dropna=False).sort_index().plot()"
   ]
  },
  {
   "cell_type": "code",
   "execution_count": 54,
   "metadata": {},
   "outputs": [
    {
     "data": {
      "text/plain": [
       "THEFT                  1568761\n",
       "BATTERY                1367605\n",
       "CRIMINAL DAMAGE         850151\n",
       "NARCOTICS               739952\n",
       "ASSAULT                 479171\n",
       "OTHER OFFENSE           463490\n",
       "BURGLARY                414121\n",
       "MOTOR VEHICLE THEFT     344327\n",
       "DECEPTIVE PRACTICE      321039\n",
       "ROBBERY                 280101\n",
       "Name: primary_type, dtype: int64"
      ]
     },
     "execution_count": 54,
     "metadata": {},
     "output_type": "execute_result"
    }
   ],
   "source": [
    "#top 10 crimes committed\n",
    "\n",
    "top10_crimes = crimes_df.primary_type.value_counts().sort_values(ascending=False)[:10]\n",
    "top10_crimes"
   ]
  },
  {
   "cell_type": "code",
   "execution_count": 56,
   "metadata": {},
   "outputs": [
    {
     "data": {
      "text/plain": [
       "<matplotlib.axes._subplots.AxesSubplot at 0x7fdf507c1750>"
      ]
     },
     "execution_count": 56,
     "metadata": {},
     "output_type": "execute_result"
    },
    {
     "data": {
      "image/png": "[encoded data removed]",
      "text/plain": [
       "<Figure size 1080x360 with 1 Axes>"
      ]
     },
     "metadata": {
      "needs_background": "light"
     },
     "output_type": "display_data"
    }
   ],
   "source": [
    "top10_crimes.plot(kind='bar')"
   ]
  },
  {
   "cell_type": "code",
   "execution_count": null,
   "metadata": {},
   "outputs": [],
   "source": []
  },
  {
   "cell_type": "code",
   "execution_count": null,
   "metadata": {},
   "outputs": [],
   "source": []
  }
 ],
 "metadata": {
  "kernelspec": {
   "display_name": "Python 3",
   "language": "python",
   "name": "python3"
  },
  "language_info": {
   "codemirror_mode": {
    "name": "ipython",
    "version": 3
   },
   "file_extension": ".py",
   "mimetype": "text/x-python",
   "name": "python",
   "nbconvert_exporter": "python",
   "pygments_lexer": "ipython3",
   "version": "3.7.4"
  }
 },
 "nbformat": 4,
 "nbformat_minor": 4
}
